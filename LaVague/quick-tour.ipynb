{
  "cells": [
    {
      "cell_type": "markdown",
      "metadata": {
        "id": "57cUBU_kW8YI"
      },
      "source": [
        "<div id=\"colab_button\\\">\n",
        "    <h1>LaVague: Quick-tour guide</h1>\n",
        "    <a target=\"_blank\\\" href=\"https://colab.research.google.com/github/lavague-ai/lavague/blob/main/docs/docs/get-started/quick-tour.ipynb\">\n",
        "    <img src=\"https://colab.research.google.com/assets/colab-badge.svg\" alt=\"Open In Colab\"/></a>\n",
        "    </div>"
      ]
    },
    {
      "cell_type": "markdown",
      "metadata": {
        "id": "A8fQcYcem1ui"
      },
      "source": [
        "## Introduction\n",
        "\n",
        "In this quick tour, we are going to show you how you can use with LaVague to:\n",
        "- `Launch` an interactive Gradio where you can test running example actions on a webpage\n",
        "- `Build` the Python code needed to perform an action on the webpage of your choice\n",
        "\n",
        "> Pre-requisites: Note, if you are running the notebook locally, you will need Python (tested on python>=3.8) and pip installed."
      ]
    },
    {
      "cell_type": "markdown",
      "metadata": {
        "id": "yj5cqejHm1ui"
      },
      "source": [
        "## Installation"
      ]
    },
    {
      "cell_type": "markdown",
      "metadata": {
        "id": "BaH3wrpum1uj"
      },
      "source": [
        "### Installing LaVague\n",
        "\n",
        "We can install everything we need to get started with LaVague using our `setup.sh` script.\n",
        "\n",
        "This will download the webdriver pre-requisited needed to leverage Selenium to interact with the browser, as well as installing our LaVague package from the latest GitHub commit on `main`."
      ]
    },
    {
      "cell_type": "code",
      "execution_count": null,
      "metadata": {
        "id": "Hy0nKzXCm1uj"
      },
      "outputs": [],
      "source": [
        "!wget https://raw.githubusercontent.com/lavague-ai/LaVague/main/setup.sh\n",
        "!sudo bash setup.sh"
      ]
    },
    {
      "cell_type": "markdown",
      "metadata": {
        "id": "r70kWgBSm1uk"
      },
      "source": [
        "## API keys\n",
        "\n",
        "### OpenAI API set up\n",
        "\n",
        "Depending on the API & LLM we wish to use, we may need to set certain environment variables required for LaVague to work.\n",
        "\n",
        "⚠️ For this demo, we will use LaVague with GPT3.5 via the OpenAI API.\n",
        "\n",
        "If you are running the Quick Tour in a notebook, please add your OpenAI API key below.\n",
        "\n",
        "If you are `using LaVague locally with our CLI tool`, you can set your `OPENAI_API_KEY` environment persistently with the following steps:\n",
        "\n",
        "1) Add `OPENAI_API_KEY=YOUR_OPENAI_API_KEY` to your ~/.bashrc, ~/.bash_profile, or ~/.profile file (which file you have depends on your shell and its configuration)\n",
        "2) Use `source ~/.bashrc (or .bash_profile or .profile) to apply your modifications without having to log out and back in\n",
        "\n",
        "> If you don't have an OpenAI API key, you can see the OpenAI website for details [on how to create one](https://openai.com/product). Note, that this is a paid service - for a free alternative, see our [HuggingFace API integration](https://docs.lavague.ai/en/latest/docs/integrations/home/)"
      ]
    },
    {
      "cell_type": "code",
      "execution_count": null,
      "metadata": {
        "id": "hsiWEyHZm1ul"
      },
      "outputs": [],
      "source": [
        "import os\n",
        "\n",
        "os.environ['OPENAI_API_KEY'] = # ADD YOUR OPENAI KEY HERE"
      ]
    },
    {
      "cell_type": "markdown",
      "metadata": {
        "id": "xH3AIf3Tm1ul"
      },
      "source": [
        "### LaVague Launch\n",
        "\n",
        "The `lavague-launch` command which will launch an interactive Gradio where you can perform actions on your desired website.\n",
        "\n",
        "The command we will use to do this is:\n",
        "`lavague-launch --file_path hf.txt --config_path openai.py`\n",
        "\n",
        "- We provide the `file_path` option with a text file containing the URL of the website we want to perform an action on and the natural language instructions for the action(s) we wish to perform.\n",
        "-  We provide the `config_path` option with a Python file which configures LaVague for the specific LLM or set-up we wish to use.\n",
        "\n",
        "We provide default configuration files for key integrations.\n",
        "\n",
        "Let's download the default config files for OpenAI."
      ]
    },
    {
      "cell_type": "code",
      "execution_count": null,
      "metadata": {
        "id": "xbTIyB8qm1um"
      },
      "outputs": [],
      "source": [
        "!wget https://raw.githubusercontent.com/lavague-ai/LaVague/main/examples/api/openai_api.py\n",
        "!wget https://raw.githubusercontent.com/lavague-ai/LaVague/main/tests/hf.txt"
      ]
    },
    {
      "cell_type": "markdown",
      "metadata": {
        "id": "9YYdx-Cum1um"
      },
      "source": [
        "We can inspect the `openai.py` configuration file to see the default values we use by default here.\n",
        "\n",
        "> To learn how these configuration files work and how you can customize them, see our [Customization guide](https://docs.lavague.ai/en/latest/docs/get-started/customization/)!\n",
        "\n",
        "<img src=\"https://raw.githubusercontent.com/lavague-ai/LaVague/main/docs/assets/openai_py.png\"/>\n",
        "\n",
        "We can now launch our interactive Gradio which will be created with three default instructions which can be executed on the HuggingFace website as defined in the `hf.txt` file.\n",
        "\n",
        "> Note that by default, LaVague records some basic anonymous values to help us improve the product (LLM used, anonymous session ID, URL, success/failure result, launch/build command used). If you want to turn this off, see out [telemetry guide](\thttps://docs.lavague.ai/en/latest/docs/advanced/telemetry.md)"
      ]
    },
    {
      "cell_type": "code",
      "execution_count": null,
      "metadata": {
        "id": "ByhoPAtHm1um"
      },
      "outputs": [],
      "source": [
        "!lavague-launch --file_path hf.txt --config_path openai.py"
      ]
    },
    {
      "cell_type": "markdown",
      "metadata": {
        "id": "WDUjFHQUm1um"
      },
      "source": [
        "You can now click on the public (if you are using Google Colab) or local URL to open the Gradio in your browser.\n",
        "\n",
        "⚠️ Note, you will need to interact with the generated Gradio demo to perform the desired automated action.\n",
        "\n",
        "First, you should click in the URL textbox and press enter.\n",
        "\n",
        "<img src=\"https://raw.githubusercontent.com/lavague-ai/LaVague/main/docs/assets/launch_1_openai_py.png\" />\n",
        "\n",
        "Then, you should select your chosen default natural language instruction or write your own, and again click within the instruction textbox and press enter.\n",
        "\n",
        "At this point, Selenium code in Python is generated by the LLM, which is then executed to perform the desired action on the website.\n",
        "\n",
        "<img src=\"https://raw.githubusercontent.com/lavague-ai/LaVague/main/docs/assets/launch_2_openai_py.png\" />\n",
        "\n",
        "\n",
        "The action will then be visibly executed in the visual interface, but you can also check out the code LaVague generated and executed to perform this action on the right-hand side of the page."
      ]
    },
    {
      "cell_type": "markdown",
      "metadata": {
        "id": "vpX5gELtm1un"
      },
      "source": [
        "### LaVague Build\n",
        "\n",
        "We can alternatively use the `lavague-build` command to generate a Python script with the Selenium code needed to perform the desired action."
      ]
    },
    {
      "cell_type": "code",
      "execution_count": null,
      "metadata": {
        "id": "v62mvOVdm1un"
      },
      "outputs": [],
      "source": [
        "!lavague-build --file_path hf.txt --config_path openai.py"
      ]
    },
    {
      "cell_type": "markdown",
      "metadata": {
        "id": "2LTPECCam1un"
      },
      "source": [
        "This creates a script in your current directory named `hf_openai.py` - a combination of the two input file names separated by a `_` character.\n",
        "\n",
        "This script contains the Python code using Selenium generated by the LLM to perform the desired action on the URL as specified in your `hf.txt` configuration file.\n",
        "\n",
        "We can now inspect the code and execute it locally!\n",
        "\n",
        "<img src=\"https://raw.githubusercontent.com/lavague-ai/LaVague/main/docs/assets/build_openai_py.png\"/>\n"
      ]
    },
    {
      "cell_type": "markdown",
      "metadata": {
        "id": "7Pri_xKLm1un"
      },
      "source": [
        "## Conclusions\n",
        "\n",
        "That brings us to the end of this quick-tour.\n",
        "\n",
        "If you have any further questions, join us on the LaVague Discord [here](https://discord.com/invite/SDxn9KpqX9)."
      ]
    }
  ],
  "metadata": {
    "accelerator": "GPU",
    "colab": {
      "gpuType": "T4",
      "machine_shape": "hm",
      "provenance": []
    },
    "kernelspec": {
      "display_name": "Python 3",
      "name": "python3"
    },
    "language_info": {
      "codemirror_mode": {
        "name": "ipython",
        "version": 3
      },
      "file_extension": ".py",
      "mimetype": "text/x-python",
      "name": "python",
      "nbconvert_exporter": "python",
      "pygments_lexer": "ipython3",
      "version": "3.10.13"
    }
  },
  "nbformat": 4,
  "nbformat_minor": 0
}